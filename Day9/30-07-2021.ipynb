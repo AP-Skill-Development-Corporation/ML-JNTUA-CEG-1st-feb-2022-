{
 "cells": [
  {
   "cell_type": "markdown",
   "metadata": {},
   "source": [
    "### Day Objectives\n",
    "- Polynomial Regression"
   ]
  },
  {
   "cell_type": "markdown",
   "metadata": {},
   "source": [
    "### Polynomial Regression\n",
    "- Polynomial Regression is one of the linear regression model\n",
    "- If the change between Independent and Dependent variables is non-uniform, then we go for polynomial regression\n",
    "\n",
    "#### Polynomial Equation\n",
    "- Y = C + C1*X + C2X^2 + C3X^3+ ..... + CnX^n\n",
    "    - Y = Target or Dependent variable\n",
    "    - X = Independent variable\n",
    "    - C1, C2, ..., Cn = (C is Bias) Weight of regression equation"
   ]
  },
  {
   "cell_type": "code",
   "execution_count": 2,
   "metadata": {},
   "outputs": [],
   "source": [
    "import numpy as np\n",
    "import pandas as pd\n",
    "import matplotlib.pyplot as plt"
   ]
  },
  {
   "cell_type": "markdown",
   "metadata": {},
   "source": [
    "- Underfitting: Model is not able to recognize the pattern\n",
    "- Best fit: Model recognize the pattern and giving best performance in both training and testing\n",
    "- Over Fitting: Model captures all the data points but failed in testing."
   ]
  },
  {
   "cell_type": "code",
   "execution_count": 3,
   "metadata": {},
   "outputs": [],
   "source": [
    "X = np.linspace(0,10,100) # array \n",
    "r = np.random.randn(100) * 100\n",
    "Y = X**3 + r + 100"
   ]
  },
  {
   "cell_type": "code",
   "execution_count": 4,
   "metadata": {
    "collapsed": true
   },
   "outputs": [
    {
     "data": {
      "text/plain": [
       "array([ 0.        ,  0.1010101 ,  0.2020202 ,  0.3030303 ,  0.4040404 ,\n",
       "        0.50505051,  0.60606061,  0.70707071,  0.80808081,  0.90909091,\n",
       "        1.01010101,  1.11111111,  1.21212121,  1.31313131,  1.41414141,\n",
       "        1.51515152,  1.61616162,  1.71717172,  1.81818182,  1.91919192,\n",
       "        2.02020202,  2.12121212,  2.22222222,  2.32323232,  2.42424242,\n",
       "        2.52525253,  2.62626263,  2.72727273,  2.82828283,  2.92929293,\n",
       "        3.03030303,  3.13131313,  3.23232323,  3.33333333,  3.43434343,\n",
       "        3.53535354,  3.63636364,  3.73737374,  3.83838384,  3.93939394,\n",
       "        4.04040404,  4.14141414,  4.24242424,  4.34343434,  4.44444444,\n",
       "        4.54545455,  4.64646465,  4.74747475,  4.84848485,  4.94949495,\n",
       "        5.05050505,  5.15151515,  5.25252525,  5.35353535,  5.45454545,\n",
       "        5.55555556,  5.65656566,  5.75757576,  5.85858586,  5.95959596,\n",
       "        6.06060606,  6.16161616,  6.26262626,  6.36363636,  6.46464646,\n",
       "        6.56565657,  6.66666667,  6.76767677,  6.86868687,  6.96969697,\n",
       "        7.07070707,  7.17171717,  7.27272727,  7.37373737,  7.47474747,\n",
       "        7.57575758,  7.67676768,  7.77777778,  7.87878788,  7.97979798,\n",
       "        8.08080808,  8.18181818,  8.28282828,  8.38383838,  8.48484848,\n",
       "        8.58585859,  8.68686869,  8.78787879,  8.88888889,  8.98989899,\n",
       "        9.09090909,  9.19191919,  9.29292929,  9.39393939,  9.49494949,\n",
       "        9.5959596 ,  9.6969697 ,  9.7979798 ,  9.8989899 , 10.        ])"
      ]
     },
     "execution_count": 4,
     "metadata": {},
     "output_type": "execute_result"
    }
   ],
   "source": [
    "X"
   ]
  },
  {
   "cell_type": "code",
   "execution_count": 4,
   "metadata": {
    "collapsed": true
   },
   "outputs": [
    {
     "data": {
      "text/plain": [
       "array([-127.53464798,  133.03350787,  119.89207604,   37.15601292,\n",
       "         14.79128555,  160.32128424,  183.77824706,  206.50199295,\n",
       "        -44.94105103,  113.88445633,   66.75503479,   75.30331854,\n",
       "        337.19570762,  112.94893816,    3.28530564,  178.43084384,\n",
       "        214.38852947,  190.70617353,  -26.41916446,   -1.87234174,\n",
       "        181.24482053,  388.42266618,   76.33553674,  243.72937954,\n",
       "         21.66445136,   -8.03380058,  -15.34612323,   43.98709739,\n",
       "        -22.75264449,  177.62370048,  199.00594141,  280.03568399,\n",
       "         93.99375689,  208.87670669,  135.25430583,   50.04650775,\n",
       "         43.65774503,  102.21830255,  181.18227066,   94.96751305,\n",
       "        136.77760494,   41.66489592,  200.14923464,   62.85586321,\n",
       "         33.85291844,  130.9477543 ,  306.26510915,   52.31209355,\n",
       "        287.18555376,  206.2834331 ,  236.1154629 ,  229.92732437,\n",
       "        338.85161912,  233.56517294,  216.24618199,  347.73049909,\n",
       "        250.87833584,  247.22860164,  301.6419092 ,  209.08735249,\n",
       "        274.80343282,  354.3857851 ,  141.11219808,  369.36107108,\n",
       "        250.57927207,  393.23682524,  198.2039966 ,  332.60368434,\n",
       "        338.98027307,  365.84667859,  419.41401151,  299.40746398,\n",
       "        621.14596261,  496.04904567,  597.07167472,  582.3940223 ,\n",
       "        485.71429296,  609.30456546,  593.21482433,  683.99524368,\n",
       "        549.50513945,  641.96567996,  741.01781214,  659.68014571,\n",
       "        722.81944389,  787.10043368,  749.15593911,  780.36563746,\n",
       "        713.79861532,  960.42655562,  960.40657561,  665.16348561,\n",
       "        826.97912844,  780.58097202,  949.55558925,  894.97475098,\n",
       "       1006.31545737, 1075.01013544, 1095.47576897,  971.57358343])"
      ]
     },
     "execution_count": 4,
     "metadata": {},
     "output_type": "execute_result"
    }
   ],
   "source": [
    "Y"
   ]
  },
  {
   "cell_type": "code",
   "execution_count": 5,
   "metadata": {
    "collapsed": true
   },
   "outputs": [
    {
     "data": {
      "text/plain": [
       "<matplotlib.collections.PathCollection at 0x1df98cc5288>"
      ]
     },
     "execution_count": 5,
     "metadata": {},
     "output_type": "execute_result"
    },
    {
     "data": {
      "image/png": "[encoded data removed]",
      "text/plain": [
       "<Figure size 432x288 with 1 Axes>"
      ]
     },
     "metadata": {
      "needs_background": "light"
     },
     "output_type": "display_data"
    }
   ],
   "source": [
    "plt.scatter(X,Y)"
   ]
  },
  {
   "cell_type": "code",
   "execution_count": 6,
   "metadata": {},
   "outputs": [],
   "source": [
    "l = len(X)\n",
    "X = X.reshape(l,1)"
   ]
  },
  {
   "cell_type": "code",
   "execution_count": 7,
   "metadata": {
    "collapsed": true
   },
   "outputs": [
    {
     "data": {
      "text/plain": [
       "array([[ 0.        ],\n",
       "       [ 0.1010101 ],\n",
       "       [ 0.2020202 ],\n",
       "       [ 0.3030303 ],\n",
       "       [ 0.4040404 ],\n",
       "       [ 0.50505051],\n",
       "       [ 0.60606061],\n",
       "       [ 0.70707071],\n",
       "       [ 0.80808081],\n",
       "       [ 0.90909091],\n",
       "       [ 1.01010101],\n",
       "       [ 1.11111111],\n",
       "       [ 1.21212121],\n",
       "       [ 1.31313131],\n",
       "       [ 1.41414141],\n",
       "       [ 1.51515152],\n",
       "       [ 1.61616162],\n",
       "       [ 1.71717172],\n",
       "       [ 1.81818182],\n",
       "       [ 1.91919192],\n",
       "       [ 2.02020202],\n",
       "       [ 2.12121212],\n",
       "       [ 2.22222222],\n",
       "       [ 2.32323232],\n",
       "       [ 2.42424242],\n",
       "       [ 2.52525253],\n",
       "       [ 2.62626263],\n",
       "       [ 2.72727273],\n",
       "       [ 2.82828283],\n",
       "       [ 2.92929293],\n",
       "       [ 3.03030303],\n",
       "       [ 3.13131313],\n",
       "       [ 3.23232323],\n",
       "       [ 3.33333333],\n",
       "       [ 3.43434343],\n",
       "       [ 3.53535354],\n",
       "       [ 3.63636364],\n",
       "       [ 3.73737374],\n",
       "       [ 3.83838384],\n",
       "       [ 3.93939394],\n",
       "       [ 4.04040404],\n",
       "       [ 4.14141414],\n",
       "       [ 4.24242424],\n",
       "       [ 4.34343434],\n",
       "       [ 4.44444444],\n",
       "       [ 4.54545455],\n",
       "       [ 4.64646465],\n",
       "       [ 4.74747475],\n",
       "       [ 4.84848485],\n",
       "       [ 4.94949495],\n",
       "       [ 5.05050505],\n",
       "       [ 5.15151515],\n",
       "       [ 5.25252525],\n",
       "       [ 5.35353535],\n",
       "       [ 5.45454545],\n",
       "       [ 5.55555556],\n",
       "       [ 5.65656566],\n",
       "       [ 5.75757576],\n",
       "       [ 5.85858586],\n",
       "       [ 5.95959596],\n",
       "       [ 6.06060606],\n",
       "       [ 6.16161616],\n",
       "       [ 6.26262626],\n",
       "       [ 6.36363636],\n",
       "       [ 6.46464646],\n",
       "       [ 6.56565657],\n",
       "       [ 6.66666667],\n",
       "       [ 6.76767677],\n",
       "       [ 6.86868687],\n",
       "       [ 6.96969697],\n",
       "       [ 7.07070707],\n",
       "       [ 7.17171717],\n",
       "       [ 7.27272727],\n",
       "       [ 7.37373737],\n",
       "       [ 7.47474747],\n",
       "       [ 7.57575758],\n",
       "       [ 7.67676768],\n",
       "       [ 7.77777778],\n",
       "       [ 7.87878788],\n",
       "       [ 7.97979798],\n",
       "       [ 8.08080808],\n",
       "       [ 8.18181818],\n",
       "       [ 8.28282828],\n",
       "       [ 8.38383838],\n",
       "       [ 8.48484848],\n",
       "       [ 8.58585859],\n",
       "       [ 8.68686869],\n",
       "       [ 8.78787879],\n",
       "       [ 8.88888889],\n",
       "       [ 8.98989899],\n",
       "       [ 9.09090909],\n",
       "       [ 9.19191919],\n",
       "       [ 9.29292929],\n",
       "       [ 9.39393939],\n",
       "       [ 9.49494949],\n",
       "       [ 9.5959596 ],\n",
       "       [ 9.6969697 ],\n",
       "       [ 9.7979798 ],\n",
       "       [ 9.8989899 ],\n",
       "       [10.        ]])"
      ]
     },
     "execution_count": 7,
     "metadata": {},
     "output_type": "execute_result"
    }
   ],
   "source": [
    "X"
   ]
  },
  {
   "cell_type": "code",
   "execution_count": 8,
   "metadata": {},
   "outputs": [],
   "source": [
    "### Apply linear regression model for above data\n",
    "from sklearn.linear_model import LinearRegression\n",
    "linear = LinearRegression()"
   ]
  },
  {
   "cell_type": "code",
   "execution_count": 9,
   "metadata": {
    "collapsed": true
   },
   "outputs": [
    {
     "data": {
      "text/plain": [
       "LinearRegression(copy_X=True, fit_intercept=True, n_jobs=None, normalize=False)"
      ]
     },
     "execution_count": 9,
     "metadata": {},
     "output_type": "execute_result"
    }
   ],
   "source": [
    "linear.fit(X,Y)"
   ]
  },
  {
   "cell_type": "code",
   "execution_count": 10,
   "metadata": {
    "collapsed": true
   },
   "outputs": [
    {
     "data": {
      "text/plain": [
       "array([-104.39846769,  -95.53547209,  -86.6724765 ,  -77.8094809 ,\n",
       "        -68.94648531,  -60.08348972,  -51.22049412,  -42.35749853,\n",
       "        -33.49450293,  -24.63150734,  -15.76851175,   -6.90551615,\n",
       "          1.95747944,   10.82047503,   19.68347063,   28.54646622,\n",
       "         37.40946182,   46.27245741,   55.135453  ,   63.9984486 ,\n",
       "         72.86144419,   81.72443979,   90.58743538,   99.45043097,\n",
       "        108.31342657,  117.17642216,  126.03941776,  134.90241335,\n",
       "        143.76540894,  152.62840454,  161.49140013,  170.35439573,\n",
       "        179.21739132,  188.08038691,  196.94338251,  205.8063781 ,\n",
       "        214.6693737 ,  223.53236929,  232.39536488,  241.25836048,\n",
       "        250.12135607,  258.98435167,  267.84734726,  276.71034285,\n",
       "        285.57333845,  294.43633404,  303.29932963,  312.16232523,\n",
       "        321.02532082,  329.88831642,  338.75131201,  347.6143076 ,\n",
       "        356.4773032 ,  365.34029879,  374.20329439,  383.06628998,\n",
       "        391.92928557,  400.79228117,  409.65527676,  418.51827236,\n",
       "        427.38126795,  436.24426354,  445.10725914,  453.97025473,\n",
       "        462.83325033,  471.69624592,  480.55924151,  489.42223711,\n",
       "        498.2852327 ,  507.1482283 ,  516.01122389,  524.87421948,\n",
       "        533.73721508,  542.60021067,  551.46320627,  560.32620186,\n",
       "        569.18919745,  578.05219305,  586.91518864,  595.77818424,\n",
       "        604.64117983,  613.50417542,  622.36717102,  631.23016661,\n",
       "        640.0931622 ,  648.9561578 ,  657.81915339,  666.68214899,\n",
       "        675.54514458,  684.40814017,  693.27113577,  702.13413136,\n",
       "        710.99712696,  719.86012255,  728.72311814,  737.58611374,\n",
       "        746.44910933,  755.31210493,  764.17510052,  773.03809611])"
      ]
     },
     "execution_count": 10,
     "metadata": {},
     "output_type": "execute_result"
    }
   ],
   "source": [
    "y_predict = linear.predict(X)\n",
    "y_predict"
   ]
  },
  {
   "cell_type": "code",
   "execution_count": 11,
   "metadata": {
    "collapsed": true
   },
   "outputs": [
    {
     "data": {
      "text/plain": [
       "[<matplotlib.lines.Line2D at 0x1df9b9d6bc8>]"
      ]
     },
     "execution_count": 11,
     "metadata": {},
     "output_type": "execute_result"
    },
    {
     "data": {
      "image/png": "[encoded data removed]",
      "text/plain": [
       "<Figure size 432x288 with 1 Axes>"
      ]
     },
     "metadata": {
      "needs_background": "light"
     },
     "output_type": "display_data"
    }
   ],
   "source": [
    "plt.scatter(X,Y, c = 'm')\n",
    "plt.plot(X, y_predict, c = 'y')"
   ]
  },
  {
   "cell_type": "markdown",
   "metadata": {},
   "source": [
    "- Linear regression is underfit for given data \n",
    "- In this case, polynomial regression"
   ]
  },
  {
   "cell_type": "code",
   "execution_count": 12,
   "metadata": {},
   "outputs": [],
   "source": [
    "from sklearn.preprocessing import PolynomialFeatures"
   ]
  },
  {
   "cell_type": "code",
   "execution_count": 20,
   "metadata": {
    "collapsed": true
   },
   "outputs": [
    {
     "data": {
      "text/plain": [
       "array([[ 0.        ],\n",
       "       [ 0.1010101 ],\n",
       "       [ 0.2020202 ],\n",
       "       [ 0.3030303 ],\n",
       "       [ 0.4040404 ],\n",
       "       [ 0.50505051],\n",
       "       [ 0.60606061],\n",
       "       [ 0.70707071],\n",
       "       [ 0.80808081],\n",
       "       [ 0.90909091],\n",
       "       [ 1.01010101],\n",
       "       [ 1.11111111],\n",
       "       [ 1.21212121],\n",
       "       [ 1.31313131],\n",
       "       [ 1.41414141],\n",
       "       [ 1.51515152],\n",
       "       [ 1.61616162],\n",
       "       [ 1.71717172],\n",
       "       [ 1.81818182],\n",
       "       [ 1.91919192],\n",
       "       [ 2.02020202],\n",
       "       [ 2.12121212],\n",
       "       [ 2.22222222],\n",
       "       [ 2.32323232],\n",
       "       [ 2.42424242],\n",
       "       [ 2.52525253],\n",
       "       [ 2.62626263],\n",
       "       [ 2.72727273],\n",
       "       [ 2.82828283],\n",
       "       [ 2.92929293],\n",
       "       [ 3.03030303],\n",
       "       [ 3.13131313],\n",
       "       [ 3.23232323],\n",
       "       [ 3.33333333],\n",
       "       [ 3.43434343],\n",
       "       [ 3.53535354],\n",
       "       [ 3.63636364],\n",
       "       [ 3.73737374],\n",
       "       [ 3.83838384],\n",
       "       [ 3.93939394],\n",
       "       [ 4.04040404],\n",
       "       [ 4.14141414],\n",
       "       [ 4.24242424],\n",
       "       [ 4.34343434],\n",
       "       [ 4.44444444],\n",
       "       [ 4.54545455],\n",
       "       [ 4.64646465],\n",
       "       [ 4.74747475],\n",
       "       [ 4.84848485],\n",
       "       [ 4.94949495],\n",
       "       [ 5.05050505],\n",
       "       [ 5.15151515],\n",
       "       [ 5.25252525],\n",
       "       [ 5.35353535],\n",
       "       [ 5.45454545],\n",
       "       [ 5.55555556],\n",
       "       [ 5.65656566],\n",
       "       [ 5.75757576],\n",
       "       [ 5.85858586],\n",
       "       [ 5.95959596],\n",
       "       [ 6.06060606],\n",
       "       [ 6.16161616],\n",
       "       [ 6.26262626],\n",
       "       [ 6.36363636],\n",
       "       [ 6.46464646],\n",
       "       [ 6.56565657],\n",
       "       [ 6.66666667],\n",
       "       [ 6.76767677],\n",
       "       [ 6.86868687],\n",
       "       [ 6.96969697],\n",
       "       [ 7.07070707],\n",
       "       [ 7.17171717],\n",
       "       [ 7.27272727],\n",
       "       [ 7.37373737],\n",
       "       [ 7.47474747],\n",
       "       [ 7.57575758],\n",
       "       [ 7.67676768],\n",
       "       [ 7.77777778],\n",
       "       [ 7.87878788],\n",
       "       [ 7.97979798],\n",
       "       [ 8.08080808],\n",
       "       [ 8.18181818],\n",
       "       [ 8.28282828],\n",
       "       [ 8.38383838],\n",
       "       [ 8.48484848],\n",
       "       [ 8.58585859],\n",
       "       [ 8.68686869],\n",
       "       [ 8.78787879],\n",
       "       [ 8.88888889],\n",
       "       [ 8.98989899],\n",
       "       [ 9.09090909],\n",
       "       [ 9.19191919],\n",
       "       [ 9.29292929],\n",
       "       [ 9.39393939],\n",
       "       [ 9.49494949],\n",
       "       [ 9.5959596 ],\n",
       "       [ 9.6969697 ],\n",
       "       [ 9.7979798 ],\n",
       "       [ 9.8989899 ],\n",
       "       [10.        ]])"
      ]
     },
     "execution_count": 20,
     "metadata": {},
     "output_type": "execute_result"
    }
   ],
   "source": [
    "X"
   ]
  },
  {
   "cell_type": "code",
   "execution_count": 14,
   "metadata": {
    "collapsed": true
   },
   "outputs": [
    {
     "data": {
      "text/plain": [
       "PolynomialFeatures(degree=4, include_bias=True, interaction_only=False,\n",
       "                   order='C')"
      ]
     },
     "execution_count": 14,
     "metadata": {},
     "output_type": "execute_result"
    }
   ],
   "source": [
    "poly = PolynomialFeatures(degree = 4)\n",
    "poly\n",
    "## degree = 2 --> X**0, X**1, X**2,X**4"
   ]
  },
  {
   "cell_type": "code",
   "execution_count": 15,
   "metadata": {
    "collapsed": true
   },
   "outputs": [
    {
     "data": {
      "text/plain": [
       "array([[1.00000000e+00, 0.00000000e+00, 0.00000000e+00, 0.00000000e+00,\n",
       "        0.00000000e+00],\n",
       "       [1.00000000e+00, 1.01010101e-01, 1.02030405e-02, 1.03061015e-03,\n",
       "        1.04102036e-04],\n",
       "       [1.00000000e+00, 2.02020202e-01, 4.08121620e-02, 8.24488122e-03,\n",
       "        1.66563257e-03],\n",
       "       [1.00000000e+00, 3.03030303e-01, 9.18273646e-02, 2.78264741e-02,\n",
       "        8.43226488e-03],\n",
       "       [1.00000000e+00, 4.04040404e-01, 1.63248648e-01, 6.59590497e-02,\n",
       "        2.66501211e-02],\n",
       "       [1.00000000e+00, 5.05050505e-01, 2.55076013e-01, 1.28826269e-01,\n",
       "        6.50637722e-02],\n",
       "       [1.00000000e+00, 6.06060606e-01, 3.67309458e-01, 2.22611793e-01,\n",
       "        1.34916238e-01],\n",
       "       [1.00000000e+00, 7.07070707e-01, 4.99948985e-01, 3.53499282e-01,\n",
       "        2.49948987e-01],\n",
       "       [1.00000000e+00, 8.08080808e-01, 6.52994592e-01, 5.27672398e-01,\n",
       "        4.26401938e-01],\n",
       "       [1.00000000e+00, 9.09090909e-01, 8.26446281e-01, 7.51314801e-01,\n",
       "        6.83013455e-01],\n",
       "       [1.00000000e+00, 1.01010101e+00, 1.02030405e+00, 1.03061015e+00,\n",
       "        1.04102036e+00],\n",
       "       [1.00000000e+00, 1.11111111e+00, 1.23456790e+00, 1.37174211e+00,\n",
       "        1.52415790e+00],\n",
       "       [1.00000000e+00, 1.21212121e+00, 1.46923783e+00, 1.78089434e+00,\n",
       "        2.15865981e+00],\n",
       "       [1.00000000e+00, 1.31313131e+00, 1.72431385e+00, 2.26425050e+00,\n",
       "        2.97325824e+00],\n",
       "       [1.00000000e+00, 1.41414141e+00, 1.99979594e+00, 2.82799426e+00,\n",
       "        3.99918380e+00],\n",
       "       [1.00000000e+00, 1.51515152e+00, 2.29568411e+00, 3.47830926e+00,\n",
       "        5.27016555e+00],\n",
       "       [1.00000000e+00, 1.61616162e+00, 2.61197837e+00, 4.22137918e+00,\n",
       "        6.82243100e+00],\n",
       "       [1.00000000e+00, 1.71717172e+00, 2.94867871e+00, 5.06338768e+00,\n",
       "        8.69470611e+00],\n",
       "       [1.00000000e+00, 1.81818182e+00, 3.30578512e+00, 6.01051841e+00,\n",
       "        1.09282153e+01],\n",
       "       [1.00000000e+00, 1.91919192e+00, 3.68329762e+00, 7.06895503e+00,\n",
       "        1.35666814e+01],\n",
       "       [1.00000000e+00, 2.02020202e+00, 4.08121620e+00, 8.24488122e+00,\n",
       "        1.66563257e+01],\n",
       "       [1.00000000e+00, 2.12121212e+00, 4.49954086e+00, 9.54448062e+00,\n",
       "        2.02458680e+01],\n",
       "       [1.00000000e+00, 2.22222222e+00, 4.93827160e+00, 1.09739369e+01,\n",
       "        2.43865264e+01],\n",
       "       [1.00000000e+00, 2.32323232e+00, 5.39740843e+00, 1.25394337e+01,\n",
       "        2.91320177e+01],\n",
       "       [1.00000000e+00, 2.42424242e+00, 5.87695133e+00, 1.42471547e+01,\n",
       "        3.45385570e+01],\n",
       "       [1.00000000e+00, 2.52525253e+00, 6.37690032e+00, 1.61032836e+01,\n",
       "        4.06648576e+01],\n",
       "       [1.00000000e+00, 2.62626263e+00, 6.89725538e+00, 1.81140040e+01,\n",
       "        4.75721318e+01],\n",
       "       [1.00000000e+00, 2.72727273e+00, 7.43801653e+00, 2.02854996e+01,\n",
       "        5.53240899e+01],\n",
       "       [1.00000000e+00, 2.82828283e+00, 7.99918376e+00, 2.26239541e+01,\n",
       "        6.39869408e+01],\n",
       "       [1.00000000e+00, 2.92929293e+00, 8.58075707e+00, 2.51355510e+01,\n",
       "        7.36293918e+01],\n",
       "       [1.00000000e+00, 3.03030303e+00, 9.18273646e+00, 2.78264741e+01,\n",
       "        8.43226488e+01],\n",
       "       [1.00000000e+00, 3.13131313e+00, 9.80512193e+00, 3.07029070e+01,\n",
       "        9.61404160e+01],\n",
       "       [1.00000000e+00, 3.23232323e+00, 1.04479135e+01, 3.37710335e+01,\n",
       "        1.09158896e+02],\n",
       "       [1.00000000e+00, 3.33333333e+00, 1.11111111e+01, 3.70370370e+01,\n",
       "        1.23456790e+02],\n",
       "       [1.00000000e+00, 3.43434343e+00, 1.17947148e+01, 4.05071014e+01,\n",
       "        1.39115298e+02],\n",
       "       [1.00000000e+00, 3.53535354e+00, 1.24987246e+01, 4.41874103e+01,\n",
       "        1.56218117e+02],\n",
       "       [1.00000000e+00, 3.63636364e+00, 1.32231405e+01, 4.80841473e+01,\n",
       "        1.74851445e+02],\n",
       "       [1.00000000e+00, 3.73737374e+00, 1.39679625e+01, 5.22034960e+01,\n",
       "        1.95103975e+02],\n",
       "       [1.00000000e+00, 3.83838384e+00, 1.47331905e+01, 5.65516403e+01,\n",
       "        2.17066902e+02],\n",
       "       [1.00000000e+00, 3.93939394e+00, 1.55188246e+01, 6.11347636e+01,\n",
       "        2.40833917e+02],\n",
       "       [1.00000000e+00, 4.04040404e+00, 1.63248648e+01, 6.59590497e+01,\n",
       "        2.66501211e+02],\n",
       "       [1.00000000e+00, 4.14141414e+00, 1.71513111e+01, 7.10306823e+01,\n",
       "        2.94167472e+02],\n",
       "       [1.00000000e+00, 4.24242424e+00, 1.79981635e+01, 7.63558450e+01,\n",
       "        3.23933888e+02],\n",
       "       [1.00000000e+00, 4.34343434e+00, 1.88654219e+01, 8.19407214e+01,\n",
       "        3.55904143e+02],\n",
       "       [1.00000000e+00, 4.44444444e+00, 1.97530864e+01, 8.77914952e+01,\n",
       "        3.90184423e+02],\n",
       "       [1.00000000e+00, 4.54545455e+00, 2.06611570e+01, 9.39143501e+01,\n",
       "        4.26883410e+02],\n",
       "       [1.00000000e+00, 4.64646465e+00, 2.15896337e+01, 1.00315470e+02,\n",
       "        4.66112284e+02],\n",
       "       [1.00000000e+00, 4.74747475e+00, 2.25385165e+01, 1.07001038e+02,\n",
       "        5.07984725e+02],\n",
       "       [1.00000000e+00, 4.84848485e+00, 2.35078053e+01, 1.13977238e+02,\n",
       "        5.52616911e+02],\n",
       "       [1.00000000e+00, 4.94949495e+00, 2.44975003e+01, 1.21250254e+02,\n",
       "        6.00127519e+02],\n",
       "       [1.00000000e+00, 5.05050505e+00, 2.55076013e+01, 1.28826269e+02,\n",
       "        6.50637722e+02],\n",
       "       [1.00000000e+00, 5.15151515e+00, 2.65381084e+01, 1.36711467e+02,\n",
       "        7.04271195e+02],\n",
       "       [1.00000000e+00, 5.25252525e+00, 2.75890215e+01, 1.44912032e+02,\n",
       "        7.61154109e+02],\n",
       "       [1.00000000e+00, 5.35353535e+00, 2.86603408e+01, 1.53434148e+02,\n",
       "        8.21415134e+02],\n",
       "       [1.00000000e+00, 5.45454545e+00, 2.97520661e+01, 1.62283997e+02,\n",
       "        8.85185438e+02],\n",
       "       [1.00000000e+00, 5.55555556e+00, 3.08641975e+01, 1.71467764e+02,\n",
       "        9.52598689e+02],\n",
       "       [1.00000000e+00, 5.65656566e+00, 3.19967350e+01, 1.80991632e+02,\n",
       "        1.02379105e+03],\n",
       "       [1.00000000e+00, 5.75757576e+00, 3.31496786e+01, 1.90861786e+02,\n",
       "        1.09890119e+03],\n",
       "       [1.00000000e+00, 5.85858586e+00, 3.43230283e+01, 2.01084408e+02,\n",
       "        1.17807027e+03],\n",
       "       [1.00000000e+00, 5.95959596e+00, 3.55167840e+01, 2.11665682e+02,\n",
       "        1.26144195e+03],\n",
       "       [1.00000000e+00, 6.06060606e+00, 3.67309458e+01, 2.22611793e+02,\n",
       "        1.34916238e+03],\n",
       "       [1.00000000e+00, 6.16161616e+00, 3.79655137e+01, 2.33928923e+02,\n",
       "        1.44138023e+03],\n",
       "       [1.00000000e+00, 6.26262626e+00, 3.92204877e+01, 2.45623256e+02,\n",
       "        1.53824666e+03],\n",
       "       [1.00000000e+00, 6.36363636e+00, 4.04958678e+01, 2.57700977e+02,\n",
       "        1.63991531e+03],\n",
       "       [1.00000000e+00, 6.46464646e+00, 4.17916539e+01, 2.70168268e+02,\n",
       "        1.74654234e+03],\n",
       "       [1.00000000e+00, 6.56565657e+00, 4.31078461e+01, 2.83031313e+02,\n",
       "        1.85828640e+03],\n",
       "       [1.00000000e+00, 6.66666667e+00, 4.44444444e+01, 2.96296296e+02,\n",
       "        1.97530864e+03],\n",
       "       [1.00000000e+00, 6.76767677e+00, 4.58014488e+01, 3.09969401e+02,\n",
       "        2.09777272e+03],\n",
       "       [1.00000000e+00, 6.86868687e+00, 4.71788593e+01, 3.24056811e+02,\n",
       "        2.22584476e+03],\n",
       "       [1.00000000e+00, 6.96969697e+00, 4.85766758e+01, 3.38564710e+02,\n",
       "        2.35969344e+03],\n",
       "       [1.00000000e+00, 7.07070707e+00, 4.99948985e+01, 3.53499282e+02,\n",
       "        2.49948987e+03],\n",
       "       [1.00000000e+00, 7.17171717e+00, 5.14335272e+01, 3.68866710e+02,\n",
       "        2.64540772e+03],\n",
       "       [1.00000000e+00, 7.27272727e+00, 5.28925620e+01, 3.84673178e+02,\n",
       "        2.79762311e+03],\n",
       "       [1.00000000e+00, 7.37373737e+00, 5.43720029e+01, 4.00924870e+02,\n",
       "        2.95631469e+03],\n",
       "       [1.00000000e+00, 7.47474747e+00, 5.58718498e+01, 4.17627968e+02,\n",
       "        3.12166360e+03],\n",
       "       [1.00000000e+00, 7.57575758e+00, 5.73921028e+01, 4.34788658e+02,\n",
       "        3.29385347e+03],\n",
       "       [1.00000000e+00, 7.67676768e+00, 5.89327620e+01, 4.52413122e+02,\n",
       "        3.47307043e+03],\n",
       "       [1.00000000e+00, 7.77777778e+00, 6.04938272e+01, 4.70507545e+02,\n",
       "        3.65950312e+03],\n",
       "       [1.00000000e+00, 7.87878788e+00, 6.20752984e+01, 4.89078109e+02,\n",
       "        3.85334268e+03],\n",
       "       [1.00000000e+00, 7.97979798e+00, 6.36771758e+01, 5.08130999e+02,\n",
       "        4.05478272e+03],\n",
       "       [1.00000000e+00, 8.08080808e+00, 6.52994592e+01, 5.27672398e+02,\n",
       "        4.26401938e+03],\n",
       "       [1.00000000e+00, 8.18181818e+00, 6.69421488e+01, 5.47708490e+02,\n",
       "        4.48125128e+03],\n",
       "       [1.00000000e+00, 8.28282828e+00, 6.86052444e+01, 5.68245458e+02,\n",
       "        4.70667955e+03],\n",
       "       [1.00000000e+00, 8.38383838e+00, 7.02887460e+01, 5.89289487e+02,\n",
       "        4.94050782e+03],\n",
       "       [1.00000000e+00, 8.48484848e+00, 7.19926538e+01, 6.10846760e+02,\n",
       "        5.18294220e+03],\n",
       "       [1.00000000e+00, 8.58585859e+00, 7.37169677e+01, 6.32923460e+02,\n",
       "        5.43419132e+03],\n",
       "       [1.00000000e+00, 8.68686869e+00, 7.54616876e+01, 6.55525771e+02,\n",
       "        5.69446629e+03],\n",
       "       [1.00000000e+00, 8.78787879e+00, 7.72268136e+01, 6.78659877e+02,\n",
       "        5.96398074e+03],\n",
       "       [1.00000000e+00, 8.88888889e+00, 7.90123457e+01, 7.02331962e+02,\n",
       "        6.24295077e+03],\n",
       "       [1.00000000e+00, 8.98989899e+00, 8.08182838e+01, 7.26548208e+02,\n",
       "        6.53159500e+03],\n",
       "       [1.00000000e+00, 9.09090909e+00, 8.26446281e+01, 7.51314801e+02,\n",
       "        6.83013455e+03],\n",
       "       [1.00000000e+00, 9.19191919e+00, 8.44913784e+01, 7.76637923e+02,\n",
       "        7.13879303e+03],\n",
       "       [1.00000000e+00, 9.29292929e+00, 8.63585348e+01, 8.02523758e+02,\n",
       "        7.45779654e+03],\n",
       "       [1.00000000e+00, 9.39393939e+00, 8.82460973e+01, 8.28978490e+02,\n",
       "        7.78737370e+03],\n",
       "       [1.00000000e+00, 9.49494949e+00, 9.01540659e+01, 8.56008303e+02,\n",
       "        8.12775560e+03],\n",
       "       [1.00000000e+00, 9.59595960e+00, 9.20824406e+01, 8.83619379e+02,\n",
       "        8.47917586e+03],\n",
       "       [1.00000000e+00, 9.69696970e+00, 9.40312213e+01, 9.11817904e+02,\n",
       "        8.84187058e+03],\n",
       "       [1.00000000e+00, 9.79797980e+00, 9.60004081e+01, 9.40610059e+02,\n",
       "        9.21607836e+03],\n",
       "       [1.00000000e+00, 9.89898990e+00, 9.79900010e+01, 9.70002030e+02,\n",
       "        9.60204030e+03],\n",
       "       [1.00000000e+00, 1.00000000e+01, 1.00000000e+02, 1.00000000e+03,\n",
       "        1.00000000e+04]])"
      ]
     },
     "execution_count": 15,
     "metadata": {},
     "output_type": "execute_result"
    }
   ],
   "source": [
    "X_poly = poly.fit_transform(X)\n",
    "X_poly"
   ]
  },
  {
   "cell_type": "code",
   "execution_count": 16,
   "metadata": {
    "collapsed": true
   },
   "outputs": [
    {
     "data": {
      "text/plain": [
       "(1.0, 0.1010101, 0.01020304030201)"
      ]
     },
     "execution_count": 16,
     "metadata": {},
     "output_type": "execute_result"
    }
   ],
   "source": [
    "0.1010101**0, 0.1010101**1, 0.1010101**2"
   ]
  },
  {
   "cell_type": "code",
   "execution_count": 17,
   "metadata": {
    "collapsed": true
   },
   "outputs": [
    {
     "data": {
      "text/plain": [
       "LinearRegression(copy_X=True, fit_intercept=True, n_jobs=None, normalize=False)"
      ]
     },
     "execution_count": 17,
     "metadata": {},
     "output_type": "execute_result"
    }
   ],
   "source": [
    "linear2 = LinearRegression()\n",
    "linear2.fit(X_poly, Y)"
   ]
  },
  {
   "cell_type": "code",
   "execution_count": 18,
   "metadata": {
    "collapsed": true
   },
   "outputs": [
    {
     "data": {
      "text/plain": [
       "array([  39.02248451,   50.6310242 ,   61.15696574,   70.65801228,\n",
       "         79.1908158 ,   86.81097703,   93.5730455 ,   99.53051952,\n",
       "        104.73584617,  109.24042133,  113.09458966,  116.34764457,\n",
       "        119.04782831,  121.24233187,  122.97729503,  124.29780637,\n",
       "        125.24790323,  125.87057174,  126.20774682,  126.30031217,\n",
       "        126.18810027,  125.90989238,  125.50341854,  125.00535758,\n",
       "        124.45133712,  123.87593354,  123.31267202,  122.79402653,\n",
       "        122.35141979,  122.01522334,  121.81475747,  121.77829128,\n",
       "        121.93304264,  122.3051782 ,  122.9198134 ,  123.80101245,\n",
       "        124.97178836,  126.45410291,  128.26886666,  130.43593897,\n",
       "        132.97412796,  135.90119055,  139.23383244,  142.9877081 ,\n",
       "        147.1774208 ,  151.81652258,  156.91751427,  162.49184547,\n",
       "        168.54991458,  175.10106877,  182.153604  ,  189.71476501,\n",
       "        197.79074531,  206.38668723,  215.50668183,  225.15376899,\n",
       "        235.32993737,  246.03612439,  257.27221628,  269.03704804,\n",
       "        281.32840344,  294.14301505,  307.47656422,  321.32368109,\n",
       "        335.67794455,  350.53188231,  365.87697085,  381.70363542,\n",
       "        398.00125007,  414.75813763,  431.96156969,  449.59776666,\n",
       "        467.6518977 ,  486.10808078,  504.94938262,  524.15781875,\n",
       "        543.71435348,  563.59889988,  583.79031983,  604.26642398,\n",
       "        625.00397176,  645.97867139,  667.16517986,  688.53710297,\n",
       "        710.06699526,  731.72636009,  753.48564959,  775.31426466,\n",
       "        797.18055501,  819.05181911,  840.89430421,  862.67320636,\n",
       "        884.35267039,  905.89578989,  927.26460727,  948.42011369,\n",
       "        969.3222491 ,  989.92990224, 1010.20091064, 1030.09206059])"
      ]
     },
     "execution_count": 18,
     "metadata": {},
     "output_type": "execute_result"
    }
   ],
   "source": [
    "y_predict2 = linear2.predict(X_poly)\n",
    "y_predict2"
   ]
  },
  {
   "cell_type": "code",
   "execution_count": 19,
   "metadata": {},
   "outputs": [
    {
     "data": {
      "text/plain": [
       "[<matplotlib.lines.Line2D at 0x1df9b992f88>]"
      ]
     },
     "execution_count": 19,
     "metadata": {},
     "output_type": "execute_result"
    },
    {
     "data": {
      "image/png": "[encoded data removed]",
      "text/plain": [
       "<Figure size 432x288 with 1 Axes>"
      ]
     },
     "metadata": {
      "needs_background": "light"
     },
     "output_type": "display_data"
    }
   ],
   "source": [
    "plt.scatter(X,Y, c = 'purple')\n",
    "plt.plot(X,y_predict2, c = 'r')"
   ]
  },
  {
   "cell_type": "code",
   "execution_count": null,
   "metadata": {},
   "outputs": [],
   "source": []
  },
  {
   "cell_type": "code",
   "execution_count": null,
   "metadata": {},
   "outputs": [],
   "source": []
  },
  {
   "cell_type": "code",
   "execution_count": 20,
   "metadata": {},
   "outputs": [
    {
     "data": {
      "text/html": [
       "<div>\n",
       "<style scoped>\n",
       "    .dataframe tbody tr th:only-of-type {\n",
       "        vertical-align: middle;\n",
       "    }\n",
       "\n",
       "    .dataframe tbody tr th {\n",
       "        vertical-align: top;\n",
       "    }\n",
       "\n",
       "    .dataframe thead th {\n",
       "        text-align: right;\n",
       "    }\n",
       "</style>\n",
       "<table border=\"1\" class=\"dataframe\">\n",
       "  <thead>\n",
       "    <tr style=\"text-align: right;\">\n",
       "      <th></th>\n",
       "      <th>Experience</th>\n",
       "      <th>Salary</th>\n",
       "    </tr>\n",
       "  </thead>\n",
       "  <tbody>\n",
       "    <tr>\n",
       "      <td>0</td>\n",
       "      <td>0</td>\n",
       "      <td>5000</td>\n",
       "    </tr>\n",
       "    <tr>\n",
       "      <td>1</td>\n",
       "      <td>1</td>\n",
       "      <td>6000</td>\n",
       "    </tr>\n",
       "    <tr>\n",
       "      <td>2</td>\n",
       "      <td>2</td>\n",
       "      <td>7000</td>\n",
       "    </tr>\n",
       "    <tr>\n",
       "      <td>3</td>\n",
       "      <td>3</td>\n",
       "      <td>8000</td>\n",
       "    </tr>\n",
       "    <tr>\n",
       "      <td>4</td>\n",
       "      <td>4</td>\n",
       "      <td>15000</td>\n",
       "    </tr>\n",
       "    <tr>\n",
       "      <td>5</td>\n",
       "      <td>5</td>\n",
       "      <td>25000</td>\n",
       "    </tr>\n",
       "    <tr>\n",
       "      <td>6</td>\n",
       "      <td>6</td>\n",
       "      <td>40000</td>\n",
       "    </tr>\n",
       "    <tr>\n",
       "      <td>7</td>\n",
       "      <td>7</td>\n",
       "      <td>55000</td>\n",
       "    </tr>\n",
       "    <tr>\n",
       "      <td>8</td>\n",
       "      <td>8</td>\n",
       "      <td>70000</td>\n",
       "    </tr>\n",
       "  </tbody>\n",
       "</table>\n",
       "</div>"
      ],
      "text/plain": [
       "   Experience  Salary\n",
       "0           0    5000\n",
       "1           1    6000\n",
       "2           2    7000\n",
       "3           3    8000\n",
       "4           4   15000\n",
       "5           5   25000\n",
       "6           6   40000\n",
       "7           7   55000\n",
       "8           8   70000"
      ]
     },
     "execution_count": 20,
     "metadata": {},
     "output_type": "execute_result"
    }
   ],
   "source": [
    "Experience = [0,1,2,3,4,5,6,7,8]\n",
    "Salary = [5000,6000,7000,8000,15000,25000,40000,55000,70000]\n",
    "\n",
    "df = pd.DataFrame({'Experience':Experience, 'Salary':Salary})\n",
    "df"
   ]
  },
  {
   "cell_type": "markdown",
   "metadata": {},
   "source": [
    "#### Task:1\n",
    "- Apply Linear Regression model for above dataset\n",
    "- Check whether the model is underfit or bestfit.\n",
    "- Check Accuray and plot the graph\n",
    "\n",
    "#### Task:2\n",
    "- Apply Polynomial Regression model for above dataset\n",
    "- Check whether the model is underfit or bestfit.\n",
    "- Check Accuray and plot the graph"
   ]
  },
  {
   "cell_type": "code",
   "execution_count": 22,
   "metadata": {},
   "outputs": [],
   "source": [
    "import sklearn as sk"
   ]
  },
  {
   "cell_type": "code",
   "execution_count": 23,
   "metadata": {
    "collapsed": true
   },
   "outputs": [
    {
     "data": {
      "text/plain": [
       "['__SKLEARN_SETUP__',\n",
       " '__all__',\n",
       " '__builtins__',\n",
       " '__cached__',\n",
       " '__check_build',\n",
       " '__doc__',\n",
       " '__file__',\n",
       " '__loader__',\n",
       " '__name__',\n",
       " '__package__',\n",
       " '__path__',\n",
       " '__spec__',\n",
       " '__version__',\n",
       " '_config',\n",
       " 'base',\n",
       " 'clone',\n",
       " 'config_context',\n",
       " 'exceptions',\n",
       " 'externals',\n",
       " 'get_config',\n",
       " 'linear_model',\n",
       " 'logger',\n",
       " 'logging',\n",
       " 'metrics',\n",
       " 'model_selection',\n",
       " 'os',\n",
       " 'preprocessing',\n",
       " 're',\n",
       " 'set_config',\n",
       " 'setup_module',\n",
       " 'show_versions',\n",
       " 'svm',\n",
       " 'sys',\n",
       " 'utils',\n",
       " 'warnings']"
      ]
     },
     "execution_count": 23,
     "metadata": {},
     "output_type": "execute_result"
    }
   ],
   "source": [
    "dir(sk)"
   ]
  },
  {
   "cell_type": "code",
   "execution_count": null,
   "metadata": {},
   "outputs": [],
   "source": []
  }
 ],
 "metadata": {
  "kernelspec": {
   "display_name": "Python 3",
   "language": "python",
   "name": "python3"
  },
  "language_info": {
   "codemirror_mode": {
    "name": "ipython",
    "version": 3
   },
   "file_extension": ".py",
   "mimetype": "text/x-python",
   "name": "python",
   "nbconvert_exporter": "python",
   "pygments_lexer": "ipython3",
   "version": "3.7.4"
  }
 },
 "nbformat": 4,
 "nbformat_minor": 2
}
