{
 "cells": [
  {
   "cell_type": "code",
   "execution_count": 30,
   "metadata": {
    "collapsed": true
   },
   "outputs": [
    {
     "name": "stdout",
     "output_type": "stream",
     "text": [
      "Name:Ruthu\n",
      "phone:9087654321\n",
      "Ruthu\n",
      "Min bal to create a/c:500\n",
      "Welcome to our Bank\n",
      "Your A/C is created..!\n",
      "142473869:['Ruthu', 9087654321, 500]\n"
     ]
    }
   ],
   "source": [
    "import numpy as np\n",
    "class BankAccount:\n",
    "    acs={}\n",
    "    def __init__(self):\n",
    "        self.name=input('Name:')\n",
    "        self.phn=int(input('phone:'))\n",
    "        self.mnb=0\n",
    "       #self,acs={}\n",
    "    def create_account(self,name,phn,mnb):\n",
    "        self.name=name\n",
    "        self.phn=phn\n",
    "        self.acn=np.random.randint(100000000,999999999)\n",
    "        self.mnb=int(input(\"Min bal to create a/c:\"))\n",
    "        self.acs[self.acn]=[self.name,self.phn,self.mnb]\n",
    "        print(\"Welcome to our Bank\\nYour A/C is created..!\")\n",
    "        print(self.acn,self.acs[self.acn],sep=\":\")\n",
    "        \n",
    "        \n",
    "        \n",
    "ab=BankAccount()\n",
    "print(ab.name)\n",
    "ab.create_account(ab.name,ab.phn,ab.mnb)"
   ]
  },
  {
   "cell_type": "code",
   "execution_count": 22,
   "metadata": {
    "collapsed": true
   },
   "outputs": [
    {
     "name": "stdout",
     "output_type": "stream",
     "text": [
      "5\n",
      "    * \n",
      "   * * \n",
      "  * * * \n",
      " * * * * \n",
      "* * * * * \n"
     ]
    }
   ],
   "source": [
    "n=int(input()) #5\n",
    "k=n-1 #4\n",
    "for row in range(n):\n",
    "    for col in range(k):\n",
    "        print(end=\" \") # space\n",
    "    k-=1 \n",
    "    for col in range(0,row+1):\n",
    "        print(\"* \",end=\"\")\n",
    "    print()\n",
    "    "
   ]
  },
  {
   "cell_type": "code",
   "execution_count": 40,
   "metadata": {},
   "outputs": [
    {
     "ename": "NameError",
     "evalue": "name 'orof' is not defined",
     "output_type": "error",
     "traceback": [
      "\u001b[1;31m---------------------------------------------------------------------------\u001b[0m",
      "\u001b[1;31mNameError\u001b[0m                                 Traceback (most recent call last)",
      "\u001b[1;32m<ipython-input-40-ec0775f27475>\u001b[0m in \u001b[0;36m<module>\u001b[1;34m\u001b[0m\n\u001b[1;32m----> 1\u001b[1;33m \u001b[0morof\u001b[0m\u001b[1;33m\u001b[0m\u001b[1;33m\u001b[0m\u001b[0m\n\u001b[0m",
      "\u001b[1;31mNameError\u001b[0m: name 'orof' is not defined"
     ]
    }
   ],
   "source": [
    "orof"
   ]
  },
  {
   "cell_type": "markdown",
   "metadata": {},
   "source": [
    "#### "
   ]
  },
  {
   "cell_type": "code",
   "execution_count": null,
   "metadata": {},
   "outputs": [],
   "source": []
  },
  {
   "cell_type": "code",
   "execution_count": 59,
   "metadata": {
    "collapsed": true
   },
   "outputs": [
    {
     "name": "stdout",
     "output_type": "stream",
     "text": [
      ",,,,*  \n",
      ",,,,*  *  \n",
      ",,,,*  *  *  \n",
      ",,,,*  *  *  *  \n",
      ",,,,*  *  *  *  *  \n"
     ]
    }
   ],
   "source": [
    "for row in range(5):\n",
    "    for col in range(4):\n",
    "        print(end=\",\")\n",
    "    for col in range(row+1):\n",
    "        print(\"* \",end=\" \")\n",
    "    print()\n",
    "    "
   ]
  },
  {
   "cell_type": "code",
   "execution_count": 55,
   "metadata": {},
   "outputs": [
    {
     "name": "stdout",
     "output_type": "stream",
     "text": [
      "hi  hello\n"
     ]
    }
   ],
   "source": [
    "print(\"hi  hello\")"
   ]
  },
  {
   "cell_type": "code",
   "execution_count": 60,
   "metadata": {},
   "outputs": [
    {
     "name": "stdout",
     "output_type": "stream",
     "text": [
      "    *  \n",
      "    *  *  \n",
      "    *  *  *  \n",
      "    *  *  *  *  \n",
      "    *  *  *  *  *  \n"
     ]
    }
   ],
   "source": [
    "for row in range(5):\n",
    "    for col in range(4):\n",
    "        print(end=\" \")\n",
    "    for col in range(row+1):\n",
    "        print(\"* \",end=\" \")\n",
    "    print()\n",
    "    "
   ]
  },
  {
   "cell_type": "code",
   "execution_count": 68,
   "metadata": {
    "collapsed": true
   },
   "outputs": [
    {
     "name": "stdout",
     "output_type": "stream",
     "text": [
      "5\n",
      "    * \n",
      "   * * \n",
      "  * * * \n",
      " * * * * \n",
      "* * * * * \n"
     ]
    }
   ],
   "source": [
    "n=int(input())\n",
    "temp=n-1\n",
    "for row in range(n):\n",
    "    for col in range(temp):\n",
    "        print(end=\" \")\n",
    "    temp-=1\n",
    "    for col in range(row+1):\n",
    "        print(\"* \",end=\"\")\n",
    "    print()"
   ]
  },
  {
   "cell_type": "code",
   "execution_count": 71,
   "metadata": {},
   "outputs": [
    {
     "ename": "NameError",
     "evalue": "name 'pritn' is not defined",
     "output_type": "error",
     "traceback": [
      "\u001b[1;31m---------------------------------------------------------------------------\u001b[0m",
      "\u001b[1;31mNameError\u001b[0m                                 Traceback (most recent call last)",
      "\u001b[1;32m<ipython-input-71-42674f8c64b5>\u001b[0m in \u001b[0;36m<module>\u001b[1;34m\u001b[0m\n\u001b[1;32m----> 1\u001b[1;33m \u001b[0mpritn\u001b[0m\u001b[1;33m\u001b[0m\u001b[1;33m\u001b[0m\u001b[0m\n\u001b[0m",
      "\u001b[1;31mNameError\u001b[0m: name 'pritn' is not defined"
     ]
    }
   ],
   "source": [
    "pritn"
   ]
  },
  {
   "cell_type": "code",
   "execution_count": null,
   "metadata": {},
   "outputs": [],
   "source": []
  }
 ],
 "metadata": {
  "kernelspec": {
   "display_name": "Python 3",
   "language": "python",
   "name": "python3"
  },
  "language_info": {
   "codemirror_mode": {
    "name": "ipython",
    "version": 3
   },
   "file_extension": ".py",
   "mimetype": "text/x-python",
   "name": "python",
   "nbconvert_exporter": "python",
   "pygments_lexer": "ipython3",
   "version": "3.7.4"
  }
 },
 "nbformat": 4,
 "nbformat_minor": 2
}
